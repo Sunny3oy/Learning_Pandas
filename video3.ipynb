{
 "cells": [
  {
   "cell_type": "code",
   "execution_count": 25,
   "metadata": {
    "collapsed": true
   },
   "outputs": [],
   "source": [
    "import pandas as pd"
   ]
  },
  {
   "cell_type": "code",
   "execution_count": 26,
   "metadata": {
    "collapsed": true
   },
   "outputs": [],
   "source": [
    "user_cols = ['user_id', 'years_alive', 'Gender', 'Job','zip code']\n",
    "\n",
    "finaltable = pd.read_table('http://files.grouplens.org/datasets/movielens/ml-100k/u.user',sep = '|', header=None, names = user_cols)"
   ]
  },
  {
   "cell_type": "code",
   "execution_count": 27,
   "metadata": {
    "scrolled": true
   },
   "outputs": [
    {
     "data": {
      "text/plain": [
       "0         technician\n",
       "1              other\n",
       "2             writer\n",
       "3         technician\n",
       "4              other\n",
       "5          executive\n",
       "6      administrator\n",
       "7      administrator\n",
       "8            student\n",
       "9             lawyer\n",
       "10             other\n",
       "11             other\n",
       "12          educator\n",
       "13         scientist\n",
       "14          educator\n",
       "15     entertainment\n",
       "16        programmer\n",
       "17             other\n",
       "18         librarian\n",
       "19         homemaker\n",
       "20            writer\n",
       "21            writer\n",
       "22            artist\n",
       "23            artist\n",
       "24          engineer\n",
       "25          engineer\n",
       "26         librarian\n",
       "27            writer\n",
       "28        programmer\n",
       "29           student\n",
       "           ...      \n",
       "913            other\n",
       "914    entertainment\n",
       "915         engineer\n",
       "916          student\n",
       "917        scientist\n",
       "918            other\n",
       "919           artist\n",
       "920          student\n",
       "921    administrator\n",
       "922          student\n",
       "923            other\n",
       "924         salesman\n",
       "925    entertainment\n",
       "926       programmer\n",
       "927          student\n",
       "928        scientist\n",
       "929        scientist\n",
       "930         educator\n",
       "931         educator\n",
       "932          student\n",
       "933         engineer\n",
       "934           doctor\n",
       "935            other\n",
       "936         educator\n",
       "937       technician\n",
       "938          student\n",
       "939    administrator\n",
       "940          student\n",
       "941        librarian\n",
       "942          student\n",
       "Name: Job, Length: 943, dtype: object"
      ]
     },
     "execution_count": 27,
     "metadata": {},
     "output_type": "execute_result"
    }
   ],
   "source": [
    "finaltable['Job']"
   ]
  },
  {
   "cell_type": "code",
   "execution_count": 36,
   "metadata": {
    "scrolled": true
   },
   "outputs": [
    {
     "data": {
      "text/plain": [
       "0         technician,M\n",
       "1              other,F\n",
       "2             writer,M\n",
       "3         technician,M\n",
       "4              other,F\n",
       "5          executive,M\n",
       "6      administrator,M\n",
       "7      administrator,M\n",
       "8            student,M\n",
       "9             lawyer,M\n",
       "10             other,F\n",
       "11             other,F\n",
       "12          educator,M\n",
       "13         scientist,M\n",
       "14          educator,F\n",
       "15     entertainment,M\n",
       "16        programmer,M\n",
       "17             other,F\n",
       "18         librarian,M\n",
       "19         homemaker,F\n",
       "20            writer,M\n",
       "21            writer,M\n",
       "22            artist,F\n",
       "23            artist,F\n",
       "24          engineer,M\n",
       "25          engineer,M\n",
       "26         librarian,F\n",
       "27            writer,M\n",
       "28        programmer,M\n",
       "29           student,M\n",
       "            ...       \n",
       "913            other,F\n",
       "914    entertainment,M\n",
       "915         engineer,M\n",
       "916          student,F\n",
       "917        scientist,M\n",
       "918            other,M\n",
       "919           artist,F\n",
       "920          student,F\n",
       "921    administrator,F\n",
       "922          student,M\n",
       "923            other,M\n",
       "924         salesman,F\n",
       "925    entertainment,M\n",
       "926       programmer,M\n",
       "927          student,M\n",
       "928        scientist,M\n",
       "929        scientist,F\n",
       "930         educator,M\n",
       "931         educator,M\n",
       "932          student,M\n",
       "933         engineer,M\n",
       "934           doctor,M\n",
       "935            other,M\n",
       "936         educator,M\n",
       "937       technician,F\n",
       "938          student,F\n",
       "939    administrator,M\n",
       "940          student,M\n",
       "941        librarian,F\n",
       "942          student,M\n",
       "Length: 943, dtype: object"
      ]
     },
     "execution_count": 36,
     "metadata": {},
     "output_type": "execute_result"
    }
   ],
   "source": [
    "finaltable.Job + ',' +finaltable.Gender"
   ]
  },
  {
   "cell_type": "code",
   "execution_count": 37,
   "metadata": {
    "collapsed": true
   },
   "outputs": [],
   "source": [
    "finaltable['Testing_add']=finaltable.Job + ',' +finaltable.Gender"
   ]
  },
  {
   "cell_type": "code",
   "execution_count": 38,
   "metadata": {},
   "outputs": [
    {
     "data": {
      "text/html": [
       "<div>\n",
       "<style>\n",
       "    .dataframe thead tr:only-child th {\n",
       "        text-align: right;\n",
       "    }\n",
       "\n",
       "    .dataframe thead th {\n",
       "        text-align: left;\n",
       "    }\n",
       "\n",
       "    .dataframe tbody tr th {\n",
       "        vertical-align: top;\n",
       "    }\n",
       "</style>\n",
       "<table border=\"1\" class=\"dataframe\">\n",
       "  <thead>\n",
       "    <tr style=\"text-align: right;\">\n",
       "      <th></th>\n",
       "      <th>user_id</th>\n",
       "      <th>years_alive</th>\n",
       "      <th>Gender</th>\n",
       "      <th>Job</th>\n",
       "      <th>zip code</th>\n",
       "      <th>Testing_add</th>\n",
       "    </tr>\n",
       "  </thead>\n",
       "  <tbody>\n",
       "    <tr>\n",
       "      <th>0</th>\n",
       "      <td>1</td>\n",
       "      <td>24</td>\n",
       "      <td>M</td>\n",
       "      <td>technician</td>\n",
       "      <td>85711</td>\n",
       "      <td>technician,M</td>\n",
       "    </tr>\n",
       "    <tr>\n",
       "      <th>1</th>\n",
       "      <td>2</td>\n",
       "      <td>53</td>\n",
       "      <td>F</td>\n",
       "      <td>other</td>\n",
       "      <td>94043</td>\n",
       "      <td>other,F</td>\n",
       "    </tr>\n",
       "    <tr>\n",
       "      <th>2</th>\n",
       "      <td>3</td>\n",
       "      <td>23</td>\n",
       "      <td>M</td>\n",
       "      <td>writer</td>\n",
       "      <td>32067</td>\n",
       "      <td>writer,M</td>\n",
       "    </tr>\n",
       "    <tr>\n",
       "      <th>3</th>\n",
       "      <td>4</td>\n",
       "      <td>24</td>\n",
       "      <td>M</td>\n",
       "      <td>technician</td>\n",
       "      <td>43537</td>\n",
       "      <td>technician,M</td>\n",
       "    </tr>\n",
       "    <tr>\n",
       "      <th>4</th>\n",
       "      <td>5</td>\n",
       "      <td>33</td>\n",
       "      <td>F</td>\n",
       "      <td>other</td>\n",
       "      <td>15213</td>\n",
       "      <td>other,F</td>\n",
       "    </tr>\n",
       "  </tbody>\n",
       "</table>\n",
       "</div>"
      ],
      "text/plain": [
       "   user_id  years_alive Gender         Job zip code   Testing_add\n",
       "0        1           24      M  technician    85711  technician,M\n",
       "1        2           53      F       other    94043       other,F\n",
       "2        3           23      M      writer    32067      writer,M\n",
       "3        4           24      M  technician    43537  technician,M\n",
       "4        5           33      F       other    15213       other,F"
      ]
     },
     "execution_count": 38,
     "metadata": {},
     "output_type": "execute_result"
    }
   ],
   "source": [
    "finaltable.head()"
   ]
  },
  {
   "cell_type": "code",
   "execution_count": null,
   "metadata": {
    "collapsed": true
   },
   "outputs": [],
   "source": []
  }
 ],
 "metadata": {
  "kernelspec": {
   "display_name": "Python 3",
   "language": "python",
   "name": "python3"
  },
  "language_info": {
   "codemirror_mode": {
    "name": "ipython",
    "version": 3
   },
   "file_extension": ".py",
   "mimetype": "text/x-python",
   "name": "python",
   "nbconvert_exporter": "python",
   "pygments_lexer": "ipython3",
   "version": "3.6.1"
  }
 },
 "nbformat": 4,
 "nbformat_minor": 2
}
